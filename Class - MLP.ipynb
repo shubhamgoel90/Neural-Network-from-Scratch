{
 "cells": [
  {
   "cell_type": "code",
   "execution_count": 1,
   "metadata": {},
   "outputs": [],
   "source": [
    "import pandas as pd\n",
    "import numpy as np\n",
    "import matplotlib.pyplot as plt\n",
    "from sklearn.datasets import make_circles"
   ]
  },
  {
   "cell_type": "code",
   "execution_count": 92,
   "metadata": {},
   "outputs": [
    {
     "name": "stdout",
     "output_type": "stream",
     "text": [
      "(4, 2) (4,)\n"
     ]
    }
   ],
   "source": [
    "#X,Y = make_circles(n_samples=500,noise=0.2,factor=0.2)\n",
    "X,Y = np.array([[0,0],\n",
    "              [0,1],\n",
    "              [1,0],\n",
    "              [1,1]]), np.array([1,0,0,1])\n",
    "\n",
    "print(X.shape,Y.shape)"
   ]
  },
  {
   "cell_type": "code",
   "execution_count": 96,
   "metadata": {},
   "outputs": [
    {
     "data": {
      "image/png": "[encoded data removed]",
      "text/plain": [
       "<Figure size 576x396 with 1 Axes>"
      ]
     },
     "metadata": {},
     "output_type": "display_data"
    }
   ],
   "source": [
    "plt.scatter(X[:,0],X[:,1],c=Y,cmap=plt.cm.Accent_r)\n",
    "plt.show()"
   ]
  },
  {
   "cell_type": "code",
   "execution_count": 97,
   "metadata": {},
   "outputs": [],
   "source": [
    "input_size = 2\n",
    "# 3 Layer Network 2 - 4 H1 - 3H2 - 2 Output\n",
    "layers = [4,3]\n",
    "output = 2"
   ]
  },
  {
   "cell_type": "code",
   "execution_count": 98,
   "metadata": {},
   "outputs": [],
   "source": [
    "#a = np.array([[10,20],[30,40]])\n",
    "#print(np.sum(a,axis=1,keepdims=True))"
   ]
  },
  {
   "cell_type": "code",
   "execution_count": 99,
   "metadata": {},
   "outputs": [],
   "source": [
    "def softmax(a):\n",
    "    ea = np.exp(a)\n",
    "    return ea/np.sum(ea,axis=1,keepdims=True)"
   ]
  },
  {
   "cell_type": "code",
   "execution_count": 100,
   "metadata": {},
   "outputs": [
    {
     "data": {
      "text/plain": [
       "array([[9.99954602e-01, 4.53978687e-05],\n",
       "       [5.00000000e-01, 5.00000000e-01]])"
      ]
     },
     "execution_count": 100,
     "metadata": {},
     "output_type": "execute_result"
    }
   ],
   "source": [
    "a = np.array([[20,10],\n",
    "              [20,20]])\n",
    "softmax(a)"
   ]
  },
  {
   "cell_type": "code",
   "execution_count": 101,
   "metadata": {},
   "outputs": [],
   "source": [
    "class NeuralNetwork:\n",
    "    def __init__(self,input_size,hidden_layers,output_size):\n",
    "        np.random.seed(0)\n",
    "        model = {}\n",
    "        model['W1'] = np.random.randn(input_size,hidden_layers[0])\n",
    "        model['b1'] = np.zeros((1,hidden_layers[0]))\n",
    "        \n",
    "        model['W2'] = np.random.randn(hidden_layers[0],hidden_layers[1])\n",
    "        model['b2'] = np.zeros((1,hidden_layers[1]))\n",
    "        \n",
    "        model['W3'] = np.random.randn(hidden_layers[1],output_size)\n",
    "        model['b3'] = np.zeros((1,output_size))\n",
    "        \n",
    "        self.model = model\n",
    "    \n",
    "    def forward(self,x):\n",
    "        W1, W2, W3 = self.model['W1'],self.model['W2'],self.model['W3']\n",
    "        b1,b2,b3 = self.model['b1'],self.model['b2'],self.model['b3']\n",
    "        \n",
    "        z1 = np.dot(x,W1) + b1\n",
    "        a1 = np.tanh(z1)\n",
    "        \n",
    "        z2 = np.dot(a1,W2) + b2\n",
    "        a2 = np.tanh(z2)\n",
    "        \n",
    "        z3 = np.dot(a2,W3) + b3\n",
    "        y_ = softmax(z3)\n",
    "        \n",
    "        # Store the outputs of each layer for backpropagation later\n",
    "        self.activation_outputs = (a1,a2,y_)\n",
    "        return y_\n",
    "    \n",
    "    def backward(self,x,y,learning_rate=0.001):\n",
    "        W1, W2, W3 = self.model['W1'],self.model['W2'],self.model['W3']\n",
    "        b1,b2,b3 = self.model['b1'],self.model['b2'],self.model['b3']\n",
    "        a1,a2,y_ = self.activation_outputs\n",
    "        \n",
    "        # Final Layer\n",
    "        delta3 = y_ - y \n",
    "        \n",
    "        dw3 = np.dot(a2.T,delta3)\n",
    "        db3 = np.sum(delta3,axis=0)\n",
    "        \n",
    "        delta2 = np.dot(delta3,W3.T)*(1-np.square(a2))\n",
    "        dw2 = np.dot(a1.T,delta2)\n",
    "        db2 = np.sum(delta2,axis=0)\n",
    "        \n",
    "        delta1 = np.dot(delta2,W2.T)*(1-np.square(a1))\n",
    "        dw1 = np.dot(x.T,delta1)\n",
    "        db1 = np.sum(delta1,axis=0)\n",
    "        \n",
    "        #Gradient Descent\n",
    "        self.model['W1'] -= learning_rate*dw1\n",
    "        self.model['W2'] -= learning_rate*dw2\n",
    "        self.model['W3'] -= learning_rate*dw3\n",
    "        \n",
    "        self.model['b1'] -= learning_rate*db1\n",
    "        self.model['b2'] -= learning_rate*db2\n",
    "        self.model['b3'] -= learning_rate*db3\n",
    "        \n",
    "    def predict(self,x):\n",
    "        y_pred = self.forward(x)\n",
    "        return np.argmax(y_pred,axis=1)\n",
    "        \n",
    "    "
   ]
  },
  {
   "cell_type": "code",
   "execution_count": 102,
   "metadata": {},
   "outputs": [],
   "source": [
    "def loss(y_oht,pred):\n",
    "    l = -np.mean(y_oht*np.log(pred))\n",
    "    return l\n",
    "\n",
    "def one_hot(y,depth):\n",
    "    m = y.shape[0]\n",
    "    y_oht = np.zeros((m,depth))\n",
    "    y_oht[np.arange(m),y] = 1\n",
    "    return y_oht"
   ]
  },
  {
   "cell_type": "code",
   "execution_count": 103,
   "metadata": {},
   "outputs": [],
   "source": [
    "#labels = one_hot(np.array([0, 0, 1, 2]),depth=3)\n",
    "#print(labels)"
   ]
  },
  {
   "cell_type": "code",
   "execution_count": 104,
   "metadata": {},
   "outputs": [],
   "source": [
    "model = NeuralNetwork(input_size=2,hidden_layers=layers,output_size=2)"
   ]
  },
  {
   "cell_type": "code",
   "execution_count": 105,
   "metadata": {},
   "outputs": [
    {
     "name": "stdout",
     "output_type": "stream",
     "text": [
      "[[0.5 0.5]]\n",
      "1\n"
     ]
    }
   ],
   "source": [
    "# Random Prediction in the Begining\n",
    "print(model.forward(X[0].reshape(1,-1)))\n",
    "print(Y[0])"
   ]
  },
  {
   "cell_type": "code",
   "execution_count": 106,
   "metadata": {},
   "outputs": [],
   "source": [
    "def train(X,Y,model,epochs=50):\n",
    "    train_loss = []\n",
    "    \n",
    "    classes = len(np.unique(Y))\n",
    "    Y_OHT = one_hot(Y,classes)\n",
    "    \n",
    "    for epoch in range(epochs):\n",
    "        Y_ = model.forward(X)\n",
    "        l = loss(Y_OHT,Y_)\n",
    "        model.backward(X,Y_OHT)\n",
    "        train_loss.append(l)\n",
    "        \n",
    "        if epoch%5==0:\n",
    "            print(\"Epoch %d Loss %.4f\"%(epoch,l))\n",
    "            \n",
    "    plt.plot(train_loss)\n",
    "    plt.show()\n",
    "    \n",
    "        \n",
    "    "
   ]
  },
  {
   "cell_type": "code",
   "execution_count": 107,
   "metadata": {},
   "outputs": [
    {
     "name": "stdout",
     "output_type": "stream",
     "text": [
      "Epoch 0 Loss 0.7328\n",
      "Epoch 5 Loss 0.6886\n",
      "Epoch 10 Loss 0.6470\n",
      "Epoch 15 Loss 0.6073\n",
      "Epoch 20 Loss 0.5686\n",
      "Epoch 25 Loss 0.5305\n",
      "Epoch 30 Loss 0.4931\n",
      "Epoch 35 Loss 0.4568\n",
      "Epoch 40 Loss 0.4227\n",
      "Epoch 45 Loss 0.3919\n",
      "Epoch 50 Loss 0.3652\n",
      "Epoch 55 Loss 0.3428\n",
      "Epoch 60 Loss 0.3245\n",
      "Epoch 65 Loss 0.3095\n",
      "Epoch 70 Loss 0.2973\n",
      "Epoch 75 Loss 0.2871\n",
      "Epoch 80 Loss 0.2786\n",
      "Epoch 85 Loss 0.2713\n",
      "Epoch 90 Loss 0.2650\n",
      "Epoch 95 Loss 0.2595\n",
      "Epoch 100 Loss 0.2547\n",
      "Epoch 105 Loss 0.2503\n",
      "Epoch 110 Loss 0.2464\n",
      "Epoch 115 Loss 0.2429\n",
      "Epoch 120 Loss 0.2397\n",
      "Epoch 125 Loss 0.2368\n",
      "Epoch 130 Loss 0.2341\n",
      "Epoch 135 Loss 0.2316\n",
      "Epoch 140 Loss 0.2293\n",
      "Epoch 145 Loss 0.2272\n",
      "Epoch 150 Loss 0.2251\n",
      "Epoch 155 Loss 0.2232\n",
      "Epoch 160 Loss 0.2214\n",
      "Epoch 165 Loss 0.2197\n",
      "Epoch 170 Loss 0.2180\n",
      "Epoch 175 Loss 0.2165\n",
      "Epoch 180 Loss 0.2150\n",
      "Epoch 185 Loss 0.2135\n",
      "Epoch 190 Loss 0.2121\n",
      "Epoch 195 Loss 0.2107\n",
      "Epoch 200 Loss 0.2094\n",
      "Epoch 205 Loss 0.2081\n",
      "Epoch 210 Loss 0.2069\n",
      "Epoch 215 Loss 0.2056\n",
      "Epoch 220 Loss 0.2044\n",
      "Epoch 225 Loss 0.2032\n",
      "Epoch 230 Loss 0.2020\n",
      "Epoch 235 Loss 0.2008\n",
      "Epoch 240 Loss 0.1997\n",
      "Epoch 245 Loss 0.1985\n",
      "Epoch 250 Loss 0.1974\n",
      "Epoch 255 Loss 0.1963\n",
      "Epoch 260 Loss 0.1952\n",
      "Epoch 265 Loss 0.1941\n",
      "Epoch 270 Loss 0.1930\n",
      "Epoch 275 Loss 0.1919\n",
      "Epoch 280 Loss 0.1908\n",
      "Epoch 285 Loss 0.1897\n",
      "Epoch 290 Loss 0.1886\n",
      "Epoch 295 Loss 0.1875\n"
     ]
    },
    {
     "data": {
      "image/png": "[encoded data removed]",
      "text/plain": [
       "<Figure size 576x396 with 1 Axes>"
      ]
     },
     "metadata": {},
     "output_type": "display_data"
    }
   ],
   "source": [
    "train(X,Y,model,300)"
   ]
  },
  {
   "cell_type": "code",
   "execution_count": 108,
   "metadata": {},
   "outputs": [
    {
     "data": {
      "image/png": "[encoded data removed]",
      "text/plain": [
       "<Figure size 576x396 with 1 Axes>"
      ]
     },
     "metadata": {},
     "output_type": "display_data"
    }
   ],
   "source": [
    "from visualize import plot_decision_boundary\n",
    "\n",
    "\n",
    "plot_decision_boundary(lambda x:model.predict(x),X,Y)"
   ]
  },
  {
   "cell_type": "code",
   "execution_count": 109,
   "metadata": {},
   "outputs": [],
   "source": [
    "pred = model.predict(X)"
   ]
  },
  {
   "cell_type": "code",
   "execution_count": 110,
   "metadata": {},
   "outputs": [
    {
     "name": "stdout",
     "output_type": "stream",
     "text": [
      "[1 0 0 1]\n"
     ]
    }
   ],
   "source": [
    "print(pred)"
   ]
  },
  {
   "cell_type": "code",
   "execution_count": 111,
   "metadata": {},
   "outputs": [
    {
     "name": "stdout",
     "output_type": "stream",
     "text": [
      "1.0\n"
     ]
    }
   ],
   "source": [
    "acc = np.sum((pred==Y))/Y.shape[0]\n",
    "print(acc)"
   ]
  },
  {
   "cell_type": "code",
   "execution_count": null,
   "metadata": {},
   "outputs": [],
   "source": []
  }
 ],
 "metadata": {
  "kernelspec": {
   "display_name": "Python 3",
   "language": "python",
   "name": "python3"
  },
  "language_info": {
   "codemirror_mode": {
    "name": "ipython",
    "version": 3
   },
   "file_extension": ".py",
   "mimetype": "text/x-python",
   "name": "python",
   "nbconvert_exporter": "python",
   "pygments_lexer": "ipython3",
   "version": "3.7.3"
  }
 },
 "nbformat": 4,
 "nbformat_minor": 2
}
